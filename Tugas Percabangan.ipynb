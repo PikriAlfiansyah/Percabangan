{
 "cells": [
  {
   "cell_type": "code",
   "execution_count": 3,
   "id": "5b574636",
   "metadata": {},
   "outputs": [
    {
     "name": "stdout",
     "output_type": "stream",
     "text": [
      "Masukkan umur anak (dalam tahun): 8\n",
      "Masukkan tinggi badan anak (dalam cm): 155\n",
      "Tarif untuk anak dengan umur 8 tahun dan tinggi 155 cm adalah Rp70000.\n"
     ]
    }
   ],
   "source": [
    "def hitung_tarif(umur, tinggi):\n",
    "\n",
    "  if umur < 2:\n",
    "    return \"Dilarang masuk\"\n",
    "  elif umur < 4:\n",
    "    if tinggi > 70:\n",
    "      return 30000 + 10000\n",
    "    else:\n",
    "      return 30000\n",
    "  elif umur < 7:\n",
    "    if tinggi > 120:\n",
    "      return 40000 + 15000\n",
    "    else:\n",
    "      return 40000\n",
    "  elif umur < 10:\n",
    "    if tinggi > 150:\n",
    "      return 50000 + 20000\n",
    "    else:\n",
    "      return 50000\n",
    "  else:\n",
    "    return 80000\n",
    "\n",
    "umur = int(input(\"Masukkan umur anak (dalam tahun): \"))\n",
    "tinggi = int(input(\"Masukkan tinggi badan anak (dalam cm): \"))\n",
    "\n",
    "tarif = hitung_tarif(umur, tinggi)\n",
    "\n",
    "if tarif == \"Dilarang masuk\":\n",
    "  print(f\"Anak dengan umur {umur} tahun tidak diperkenankan masuk.\")\n",
    "else:\n",
    "  print(f\"Tarif untuk anak dengan umur {umur} tahun dan tinggi {tinggi} cm adalah Rp{tarif}.\")\n"
   ]
  }
 ],
 "metadata": {
  "kernelspec": {
   "display_name": "Python 3 (ipykernel)",
   "language": "python",
   "name": "python3"
  },
  "language_info": {
   "codemirror_mode": {
    "name": "ipython",
    "version": 3
   },
   "file_extension": ".py",
   "mimetype": "text/x-python",
   "name": "python",
   "nbconvert_exporter": "python",
   "pygments_lexer": "ipython3",
   "version": "3.11.5"
  }
 },
 "nbformat": 4,
 "nbformat_minor": 5
}
